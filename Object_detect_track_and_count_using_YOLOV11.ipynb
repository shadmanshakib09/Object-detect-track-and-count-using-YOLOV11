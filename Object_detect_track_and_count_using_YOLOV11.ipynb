{
  "nbformat": 4,
  "nbformat_minor": 0,
  "metadata": {
    "colab": {
      "provenance": [],
      "authorship_tag": "ABX9TyNes92AaJrcaGYZpnt6ka8i",
      "include_colab_link": true
    },
    "kernelspec": {
      "name": "python3",
      "display_name": "Python 3"
    },
    "language_info": {
      "name": "python"
    }
  },
  "cells": [
    {
      "cell_type": "markdown",
      "metadata": {
        "id": "view-in-github",
        "colab_type": "text"
      },
      "source": [
        "<a href=\"https://colab.research.google.com/github/shadmanshakib09/Object-detect-track-and-count-using-YOLOV11/blob/main/Object_detect_track_and_count_using_YOLOV11.ipynb\" target=\"_parent\"><img src=\"https://colab.research.google.com/assets/colab-badge.svg\" alt=\"Open In Colab\"/></a>"
      ]
    },
    {
      "cell_type": "markdown",
      "source": [
        "# **This code was implemented in Jupyter Notebook.**"
      ],
      "metadata": {
        "id": "pb0KtJCYHzx5"
      }
    },
    {
      "cell_type": "code",
      "execution_count": null,
      "metadata": {
        "id": "010jGPR0Gvsg"
      },
      "outputs": [],
      "source": [
        "import cv2\n",
        "import pandas as pd\n",
        "from ultralytics import YOLO"
      ]
    },
    {
      "cell_type": "code",
      "source": [
        "model = YOLO('yolo11n.pt')"
      ],
      "metadata": {
        "id": "13PT7W4FHHqI"
      },
      "execution_count": null,
      "outputs": []
    },
    {
      "cell_type": "markdown",
      "source": [
        "## This portion of the code is used to see the detected frame's co-ordinates, class and confidence score in the form of a Dataframe"
      ],
      "metadata": {
        "id": "cMFELQ_EHIa_"
      }
    },
    {
      "cell_type": "code",
      "source": [
        "cap = cv2.VideoCapture('6.mp4')\n",
        "\n",
        "count = 0\n",
        "\n",
        "while True:\n",
        "    ret,frame = cap.read()\n",
        "    if not ret:\n",
        "        break\n",
        "    count += 1\n",
        "    results = model.predict(frame)\n",
        "    a=results[0].boxes.data\n",
        "    a=a.detach().cpu().numpy()\n",
        "    px = pd.DataFrame(a).astype(\"float\")\n",
        "    print(px)\n",
        "    cv2.imshow(\"frames\", frame)\n",
        "    if cv2.waitKey(1) & 0xFF == 27:\n",
        "        break\n",
        "cap.release()\n",
        "cv2.destroyAllWindows()"
      ],
      "metadata": {
        "id": "7vHDYHrXHM25"
      },
      "execution_count": null,
      "outputs": []
    },
    {
      "cell_type": "markdown",
      "source": [
        "## Adding tracker on detected bounding box"
      ],
      "metadata": {
        "id": "Sy3Xwi3iHQ7W"
      }
    },
    {
      "cell_type": "code",
      "source": [
        "from tracker import Tracker\n",
        "tracker = Tracker()\n",
        "cap = cv2.VideoCapture('6.mp4')\n",
        "count = 0\n",
        "class_list = model.names\n",
        "\n",
        "while True:\n",
        "    ret,frame = cap.read()\n",
        "    if not ret:\n",
        "        break\n",
        "    count += 1\n",
        "    results = model.predict(frame)\n",
        "    a=results[0].boxes.data\n",
        "    a=a.detach().cpu().numpy()\n",
        "    px = pd.DataFrame(a).astype(\"float\")\n",
        "    # print(px)\n",
        "    list = []\n",
        "    for index,row in px.iterrows():\n",
        "        x1,y1,x2,y2,conf,d = map(int,row)\n",
        "        c = class_list[d]\n",
        "        if 'car' in c:\n",
        "            list.append([x1,y1,x2,y2])\n",
        "    bbox_id = tracker.update(list)\n",
        "\n",
        "    for bbox in bbox_id:\n",
        "        x3, y3, x4, y4, id = bbox\n",
        "        # Draw the bounding box\n",
        "        cv2.rectangle(frame, (x3, y3), (x4, y4), (0, 255, 0), 2)  # Green rectangle\n",
        "        cv2.putText(frame, str(id), (x3,y3), cv2.FONT_HERSHEY_COMPLEX, 0.8, (0,255,255), 2)\n",
        "\n",
        "\n",
        "    cv2.imshow(\"PROJECT BY: MD. SHADMAN SHAKIB\", frame)\n",
        "    if cv2.waitKey(1) & 0xFF == 27:\n",
        "        break\n",
        "cap.release()\n",
        "cv2.destroyAllWindows()"
      ],
      "metadata": {
        "id": "E8CeTUWKHUcN"
      },
      "execution_count": null,
      "outputs": []
    },
    {
      "cell_type": "markdown",
      "source": [
        "## Adding center of object"
      ],
      "metadata": {
        "id": "qsIhHmHPHYXv"
      }
    },
    {
      "cell_type": "code",
      "source": [
        "from tracker import Tracker\n",
        "tracker = Tracker()\n",
        "cap = cv2.VideoCapture('6.mp4')\n",
        "count = 0\n",
        "class_list = model.names\n",
        "\n",
        "while True:\n",
        "    ret,frame = cap.read()\n",
        "    if not ret:\n",
        "        break\n",
        "    count += 1\n",
        "    results = model.predict(frame)\n",
        "    a=results[0].boxes.data\n",
        "    a=a.detach().cpu().numpy()\n",
        "    px = pd.DataFrame(a).astype(\"float\")\n",
        "    # print(px)\n",
        "    list = []\n",
        "    for index,row in px.iterrows():\n",
        "        x1,y1,x2,y2,conf,d = map(int,row)\n",
        "        c = class_list[d]\n",
        "        if 'car' in c:\n",
        "            list.append([x1,y1,x2,y2])\n",
        "    bbox_id = tracker.update(list)\n",
        "\n",
        "    for bbox in bbox_id:\n",
        "        x3, y3, x4, y4, id = bbox\n",
        "        # Draw dot in the center and write tracking id on it\n",
        "        cx = (int(x3) + int(x4)) // 2\n",
        "        cy = (int(y3) + int(y4)) // 2\n",
        "        cv2.circle(frame, (cx, cy), 4, (0, 0, 255), -1)  # Red dot\n",
        "        cv2.putText(frame, str(id), (cx, cy), cv2.FONT_HERSHEY_COMPLEX, 0.8, (0, 255, 255), 2)\n",
        "        # Draw the bounding box\n",
        "        cv2.rectangle(frame, (x3, y3), (x4, y4), (0, 255, 0), 2)  # Green rectangle\n",
        "        # cv2.putText(frame, str(id), (x3,y3), cv2.FONT_HERSHEY_COMPLEX, 0.8, (0,255,255), 2)\n",
        "\n",
        "\n",
        "    cv2.imshow(\"PROJECT BY: MD. SHADMAN SHAKIB\", frame)\n",
        "    if cv2.waitKey(1) & 0xFF == 27:\n",
        "        break\n",
        "cap.release()\n",
        "cv2.destroyAllWindows()"
      ],
      "metadata": {
        "id": "iUyHvVSqHbxK"
      },
      "execution_count": null,
      "outputs": []
    },
    {
      "cell_type": "markdown",
      "source": [
        "## Red line draw"
      ],
      "metadata": {
        "id": "aDcEalQDHeKW"
      }
    },
    {
      "cell_type": "code",
      "source": [
        "from tracker import Tracker\n",
        "tracker = Tracker()\n",
        "cap = cv2.VideoCapture('6.mp4')\n",
        "count = 0\n",
        "class_list = model.names\n",
        "\n",
        "while True:\n",
        "    ret,frame = cap.read()\n",
        "    if not ret:\n",
        "        break\n",
        "    count += 1\n",
        "    results = model.predict(frame)\n",
        "    a=results[0].boxes.data\n",
        "    a=a.detach().cpu().numpy()\n",
        "    px = pd.DataFrame(a).astype(\"float\")\n",
        "    # print(px)\n",
        "    list = []\n",
        "    for index,row in px.iterrows():\n",
        "        x1,y1,x2,y2,conf,d = map(int,row)\n",
        "        c = class_list[d]\n",
        "        if 'car' in c:\n",
        "            list.append([x1,y1,x2,y2])\n",
        "    bbox_id = tracker.update(list)\n",
        "\n",
        "    for bbox in bbox_id:\n",
        "        x3, y3, x4, y4, id = bbox\n",
        "        # Draw dot in the center and write tracking id on it\n",
        "        cx = (int(x3) + int(x4)) // 2\n",
        "        cy = (int(y3) + int(y4)) // 2\n",
        "        cv2.circle(frame, (cx, cy), 4, (0, 0, 255), -1)  # Red dot\n",
        "        cv2.putText(frame, str(id), (cx, cy), cv2.FONT_HERSHEY_COMPLEX, 0.8, (0, 255, 255), 2)\n",
        "        # Draw the bounding box\n",
        "        cv2.rectangle(frame, (x3, y3), (x4, y4), (0, 255, 0), 2)  # Green rectangle\n",
        "        # cv2.putText(frame, str(id), (x3,y3), cv2.FONT_HERSHEY_COMPLEX, 0.8, (0,255,255), 2)\n",
        "        #draw line\n",
        "        line_start = (400,398)\n",
        "        line_end = (1274,398)\n",
        "        cv2.line(frame, line_start,  line_end, (0, 0, 255), 3)\n",
        "        cv2.putText(frame, 'Red Line', (7, 398), cv2.FONT_HERSHEY_SIMPLEX, 0.5, (255, 255, 255), 1, cv2.LINE_AA)\n",
        "\n",
        "    cv2.imshow(\"PROJECT BY: MD. SHADMAN SHAKIB\", frame)\n",
        "    if cv2.waitKey(1) & 0xFF == 27:\n",
        "        break\n",
        "cap.release()\n",
        "cv2.destroyAllWindows()"
      ],
      "metadata": {
        "id": "MD3D7WDsHhgp"
      },
      "execution_count": null,
      "outputs": []
    },
    {
      "cell_type": "markdown",
      "source": [
        "## Counting cars"
      ],
      "metadata": {
        "id": "n6H2Uzx9HlqH"
      }
    },
    {
      "cell_type": "code",
      "source": [
        "from tracker import Tracker\n",
        "import cv2\n",
        "import pandas as pd\n",
        "\n",
        "tracker = Tracker()\n",
        "counted_ids = set()  # Keeps track of objects that have crossed the line\n",
        "count = 0\n",
        "line_y = 398\n",
        "cap = cv2.VideoCapture('6.mp4')\n",
        "class_list = model.names\n",
        "\n",
        "while True:\n",
        "    ret, frame = cap.read()\n",
        "    if not ret:\n",
        "        break\n",
        "\n",
        "    results = model.predict(frame)\n",
        "    a = results[0].boxes.data\n",
        "    a = a.detach().cpu().numpy()\n",
        "    px = pd.DataFrame(a).astype(\"float\")\n",
        "\n",
        "    detections = []  # List to store current frame detections for the tracker\n",
        "    for index, row in px.iterrows():\n",
        "        x1, y1, x2, y2, conf, d = map(int, row)\n",
        "        c = class_list[d]\n",
        "        if 'car' in c:\n",
        "            detections.append([x1, y1, x2, y2])\n",
        "\n",
        "    bbox_id = tracker.update(detections)\n",
        "\n",
        "    for bbox in bbox_id:\n",
        "        x3, y3, x4, y4, id = bbox\n",
        "        cx = (int(x3) + int(x4)) // 2\n",
        "        cy = (int(y3) + int(y4)) // 2\n",
        "\n",
        "        # Draw tracking id and bounding box\n",
        "        cv2.circle(frame, (cx, cy), 4, (0, 0, 255), -1)\n",
        "        cv2.putText(frame, str(id), (cx, cy), cv2.FONT_HERSHEY_COMPLEX, 0.8, (0, 255, 255), 2)\n",
        "        cv2.rectangle(frame, (x3, y3), (x4, y4), (0, 255, 0), 2)\n",
        "\n",
        "        # Draw line\n",
        "        line_start = (400, 398)\n",
        "        line_end = (1274, 398)\n",
        "        cv2.line(frame, line_start, line_end, (0, 0, 255), 3)\n",
        "        cv2.putText(frame, 'Red Line', (7, 198), cv2.FONT_HERSHEY_SIMPLEX, 0.5, (255, 255, 255), 1, cv2.LINE_AA)\n",
        "\n",
        "        # Check if the object crosses the line for the first time\n",
        "        if cy > line_y and id not in counted_ids:\n",
        "            counted_ids.add(id)\n",
        "            count += 1\n",
        "            print(f\"Counted object ID: {id}\")\n",
        "\n",
        "    # Display total count\n",
        "    cv2.putText(frame, f'Total Count: {count}', (10, 30), cv2.FONT_HERSHEY_SIMPLEX, 0.7, (255, 255, 255), 2, cv2.LINE_AA)\n",
        "\n",
        "    cv2.imshow(\"PROJECT BY: MD. SHADMAN SHAKIB\", frame)\n",
        "    if cv2.waitKey(1) & 0xFF == 27:\n",
        "        break\n",
        "\n",
        "cap.release()\n",
        "cv2.destroyAllWindows()\n"
      ],
      "metadata": {
        "id": "Cz2i1kIfHoQH"
      },
      "execution_count": null,
      "outputs": []
    },
    {
      "cell_type": "markdown",
      "source": [
        "## Excel file generation"
      ],
      "metadata": {
        "id": "xx-FFBYgHrmn"
      }
    },
    {
      "cell_type": "code",
      "source": [
        "import cv2\n",
        "import pandas as pd\n",
        "from datetime import datetime\n",
        "from tracker import Tracker\n",
        "\n",
        "tracker = Tracker()\n",
        "counted_ids = set()  # Keeps track of objects that have crossed the line\n",
        "count = 0\n",
        "line_y = 398\n",
        "cap = cv2.VideoCapture('6.mp4')\n",
        "class_list = model.names\n",
        "crossing_times = []  # To store the time each object crosses the line\n",
        "\n",
        "while True:\n",
        "    ret, frame = cap.read()\n",
        "    if not ret:\n",
        "        break\n",
        "\n",
        "    results = model.predict(frame)\n",
        "    a = results[0].boxes.data\n",
        "    a = a.detach().cpu().numpy()\n",
        "    px = pd.DataFrame(a).astype(\"float\")\n",
        "\n",
        "    detections = []  # List to store current frame detections for the tracker\n",
        "    for index, row in px.iterrows():\n",
        "        x1, y1, x2, y2, conf, d = map(int, row)\n",
        "        c = class_list[d]\n",
        "        if 'car' in c:\n",
        "            detections.append([x1, y1, x2, y2])\n",
        "\n",
        "    bbox_id = tracker.update(detections)\n",
        "\n",
        "    for bbox in bbox_id:\n",
        "        x3, y3, x4, y4, id = bbox\n",
        "        cx = (int(x3) + int(x4)) // 2\n",
        "        cy = (int(y3) + int(y4)) // 2\n",
        "\n",
        "        # Draw tracking id and bounding box\n",
        "        cv2.circle(frame, (cx, cy), 4, (0, 0, 255), -1)\n",
        "        cv2.putText(frame, str(id), (cx, cy), cv2.FONT_HERSHEY_COMPLEX, 0.8, (0, 255, 255), 2)\n",
        "        cv2.rectangle(frame, (x3, y3), (x4, y4), (0, 255, 0), 2)\n",
        "\n",
        "        # Draw line\n",
        "        line_start = (400, 398)\n",
        "        line_end = (1274, 398)\n",
        "        cv2.line(frame, line_start, line_end, (0, 0, 255), 3)\n",
        "        cv2.putText(frame, 'Red Line', (7, 198), cv2.FONT_HERSHEY_SIMPLEX, 0.5, (255, 255, 255), 1, cv2.LINE_AA)\n",
        "\n",
        "        # Check if the object crosses the line for the first time\n",
        "        if cy > line_y and id not in counted_ids:\n",
        "            counted_ids.add(id)\n",
        "            count += 1\n",
        "            cross_time = datetime.now().strftime(\"%Y-%m-%d %H:%M:%S\")\n",
        "            crossing_times.append({'Object ID': id, 'Cross Time': cross_time})\n",
        "            print(f\"Counted object ID: {id} at {cross_time}\")\n",
        "\n",
        "    # Display total count\n",
        "    cv2.putText(frame, f'Total Count: {count}', (10, 30), cv2.FONT_HERSHEY_SIMPLEX, 0.7, (255, 255, 255), 2, cv2.LINE_AA)\n",
        "\n",
        "    cv2.imshow(\"PROJECT BY: MD. SHADMAN SHAKIB\", frame)\n",
        "    if cv2.waitKey(1) & 0xFF == 27:\n",
        "        break\n",
        "\n",
        "cap.release()\n",
        "cv2.destroyAllWindows()\n",
        "\n",
        "# Save the crossing times to an Excel file\n",
        "df = pd.DataFrame(crossing_times)\n",
        "df.to_excel(\"crossing_times.xlsx\", index=False)\n",
        "print(\"Crossing times saved to crossing_times.xlsx\")\n"
      ],
      "metadata": {
        "id": "xRz07sLnHtxI"
      },
      "execution_count": null,
      "outputs": []
    }
  ]
}